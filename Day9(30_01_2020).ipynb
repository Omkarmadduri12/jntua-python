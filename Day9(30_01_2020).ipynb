{
  "nbformat": 4,
  "nbformat_minor": 0,
  "metadata": {
    "colab": {
      "name": "Day9(30-01-2020).ipynb",
      "provenance": [],
      "authorship_tag": "ABX9TyP8e4CUX4KTIRHxikSy7StY",
      "include_colab_link": true
    },
    "kernelspec": {
      "name": "python3",
      "display_name": "Python 3"
    }
  },
  "cells": [
    {
      "cell_type": "markdown",
      "metadata": {
        "id": "view-in-github",
        "colab_type": "text"
      },
      "source": [
        "<a href=\"https://colab.research.google.com/github/Omkarmadduri12/jntua-python/blob/master/Day9(30_01_2020).ipynb\" target=\"_parent\"><img src=\"https://colab.research.google.com/assets/colab-badge.svg\" alt=\"Open In Colab\"/></a>"
      ]
    },
    {
      "cell_type": "code",
      "metadata": {
        "id": "yCyy0K8-9DTI",
        "colab_type": "code",
        "colab": {}
      },
      "source": [
        ""
      ],
      "execution_count": 0,
      "outputs": []
    },
    {
      "cell_type": "markdown",
      "metadata": {
        "id": "kwhlojS99885",
        "colab_type": "text"
      },
      "source": [
        "# Mark Down\n",
        "## Mark Down\n",
        "### Mark Down\n",
        "####Mark Down\n",
        "#####Mark Down\n"
      ]
    },
    {
      "cell_type": "markdown",
      "metadata": {
        "id": "hwzyy09G_f-h",
        "colab_type": "text"
      },
      "source": [
        "**Points**\n",
        "\n",
        "*points*\n",
        "\n",
        "***Points***"
      ]
    },
    {
      "cell_type": "code",
      "metadata": {
        "id": "mEzyk5le-J5H",
        "colab_type": "code",
        "colab": {}
      },
      "source": [
        ""
      ],
      "execution_count": 0,
      "outputs": []
    },
    {
      "cell_type": "markdown",
      "metadata": {
        "id": "foBi5VEQIPdi",
        "colab_type": "text"
      },
      "source": [
        ""
      ]
    },
    {
      "cell_type": "code",
      "metadata": {
        "id": "W-21S4ncIq9F",
        "colab_type": "code",
        "colab": {
          "base_uri": "https://localhost:8080/",
          "height": 51
        },
        "outputId": "358f6c7f-fbf1-4b16-e116-9a7716a85d1a"
      },
      "source": [
        "print(\"hello,jntua\")\n",
        "print(\"hello,Jntua\",\"|||\",\"CHemical\",\"|||\",\"CSE\",\"|||\",\"MCA\")\n"
      ],
      "execution_count": 1,
      "outputs": [
        {
          "output_type": "stream",
          "text": [
            "hello,jntua\n",
            "hello,Jntua ||| CHemical ||| CSE ||| MCA\n"
          ],
          "name": "stdout"
        }
      ]
    },
    {
      "cell_type": "markdown",
      "metadata": {
        "id": "DTLe-r32JO60",
        "colab_type": "text"
      },
      "source": [
        "\n",
        "# **ASSIGNMENT**\n",
        "\n"
      ]
    },
    {
      "cell_type": "code",
      "metadata": {
        "id": "gTRZug1tJol9",
        "colab_type": "code",
        "colab": {
          "base_uri": "https://localhost:8080/",
          "height": 68
        },
        "outputId": "08ba5d84-efe0-4742-d95e-ebd86fd40340"
      },
      "source": [
        "n1=100 #single variable assignment\n",
        "print(n1)\n",
        "a=b=c=10 #multiple variable assigment with same value\n",
        "print(a,b,c)\n",
        "a1,b1,c1=100,200,300  #multiple variable assignment with different values\n",
        "print(a1,b1,c1)\n",
        "\n"
      ],
      "execution_count": 6,
      "outputs": [
        {
          "output_type": "stream",
          "text": [
            "100\n",
            "10 10 10\n",
            "100 200 300\n"
          ],
          "name": "stdout"
        }
      ]
    },
    {
      "cell_type": "markdown",
      "metadata": {
        "id": "kX_gxyDvLDGm",
        "colab_type": "text"
      },
      "source": [
        "#***Data Types and Conversions***\n"
      ]
    },
    {
      "cell_type": "code",
      "metadata": {
        "id": "9DAaIeeRKWY_",
        "colab_type": "code",
        "colab": {}
      },
      "source": [
        ""
      ],
      "execution_count": 0,
      "outputs": []
    },
    {
      "cell_type": "markdown",
      "metadata": {
        "id": "OSXmDbPMLOo1",
        "colab_type": "text"
      },
      "source": [
        "\n",
        "\n",
        "\n",
        "\n",
        "*   int\n",
        "*   float\n",
        "\n",
        "\n",
        "*   string\n",
        "\n",
        "\n",
        "\n",
        "\n",
        "\n",
        "\n",
        "\n",
        "\n",
        "\n",
        "\n"
      ]
    },
    {
      "cell_type": "code",
      "metadata": {
        "id": "gqUuXzB7LhEl",
        "colab_type": "code",
        "colab": {
          "base_uri": "https://localhost:8080/",
          "height": 34
        },
        "outputId": "207149e4-5cd0-4373-d1e1-e14c49b1bbbe"
      },
      "source": [
        "a=100\n",
        "s1=10.2\n",
        "s2=\"python\"\n",
        "print(type(a),type(s1),type(s2))"
      ],
      "execution_count": 7,
      "outputs": [
        {
          "output_type": "stream",
          "text": [
            "<class 'int'> <class 'float'> <class 'str'>\n"
          ],
          "name": "stdout"
        }
      ]
    },
    {
      "cell_type": "markdown",
      "metadata": {
        "id": "fNpTWWhPMWcd",
        "colab_type": "text"
      },
      "source": [
        ""
      ]
    },
    {
      "cell_type": "code",
      "metadata": {
        "id": "sIzCECGjMWyt",
        "colab_type": "code",
        "colab": {
          "base_uri": "https://localhost:8080/",
          "height": 68
        },
        "outputId": "8df28228-3b94-4a1f-dfed-62ddece15689"
      },
      "source": [
        "i=100\n",
        "print(type(i))\n",
        "s1=str(i)\n",
        "print(type(s1))\n",
        "f1=float(i)\n",
        "print(type(f1))"
      ],
      "execution_count": 8,
      "outputs": [
        {
          "output_type": "stream",
          "text": [
            "<class 'int'>\n",
            "<class 'str'>\n",
            "<class 'float'>\n"
          ],
          "name": "stdout"
        }
      ]
    },
    {
      "cell_type": "code",
      "metadata": {
        "id": "k-0Y1U6gOEom",
        "colab_type": "code",
        "colab": {}
      },
      "source": [
        ""
      ],
      "execution_count": 0,
      "outputs": []
    },
    {
      "cell_type": "code",
      "metadata": {
        "id": "MOtC4GayNift",
        "colab_type": "code",
        "colab": {
          "base_uri": "https://localhost:8080/",
          "height": 34
        },
        "outputId": "50ac87c0-0567-4956-edef-d422b88cc413"
      },
      "source": [
        "#length\n",
        "a=1234567\n",
        "print(len(str(a)))\n"
      ],
      "execution_count": 10,
      "outputs": [
        {
          "output_type": "stream",
          "text": [
            "7\n"
          ],
          "name": "stdout"
        }
      ]
    },
    {
      "cell_type": "markdown",
      "metadata": {
        "id": "AWrOIlPKN6Vv",
        "colab_type": "text"
      },
      "source": [
        "#Reading input From user --- input functions\n"
      ]
    },
    {
      "cell_type": "code",
      "metadata": {
        "id": "qfhkJp03OGUG",
        "colab_type": "code",
        "colab": {
          "base_uri": "https://localhost:8080/",
          "height": 68
        },
        "outputId": "20c30340-be0f-43b4-9291-1717909f88ca"
      },
      "source": [
        "a=input(\"enter your name\")\n",
        "print(a)\n",
        "print(type(a))"
      ],
      "execution_count": 11,
      "outputs": [
        {
          "output_type": "stream",
          "text": [
            "enter your nameomkar\n",
            "omkar\n",
            "<class 'str'>\n"
          ],
          "name": "stdout"
        }
      ]
    },
    {
      "cell_type": "code",
      "metadata": {
        "id": "OPd5tjW4PI-W",
        "colab_type": "code",
        "colab": {
          "base_uri": "https://localhost:8080/",
          "height": 68
        },
        "outputId": "389de62a-3b0e-4b47-c2cf-869c1b793518"
      },
      "source": [
        "b=int(input(\"enter ur age\"))\n",
        "print(b)\n",
        "print(type(b))"
      ],
      "execution_count": 12,
      "outputs": [
        {
          "output_type": "stream",
          "text": [
            "enter ur age22\n",
            "22\n",
            "<class 'int'>\n"
          ],
          "name": "stdout"
        }
      ]
    },
    {
      "cell_type": "markdown",
      "metadata": {
        "id": "sy2QCQNzPaMW",
        "colab_type": "text"
      },
      "source": [
        "#Operators\n",
        "\n",
        "\n",
        "*   Operator is a symbol used to perform a specific kind of operation\n",
        "*   List item\n",
        "\n"
      ]
    },
    {
      "cell_type": "markdown",
      "metadata": {
        "id": "9IcVJdH4PuhW",
        "colab_type": "text"
      },
      "source": [
        "#Arithmetic operator\n",
        "\n",
        "\n",
        "*   +\n",
        "*   -\n",
        "\n",
        "*   *\n",
        "*   /\n",
        "\n",
        "*   %\n",
        "*   //\n",
        "- **\n",
        "\n",
        "\n",
        "\n",
        "\n",
        "\n"
      ]
    },
    {
      "cell_type": "code",
      "metadata": {
        "id": "VRX3ddB4QGdg",
        "colab_type": "code",
        "colab": {
          "base_uri": "https://localhost:8080/",
          "height": 153
        },
        "outputId": "ca025432-8887-4af5-b307-68b2c9e48d91"
      },
      "source": [
        "a=1234\n",
        "print(a+10)\n",
        "print(a-10)\n",
        "print(a*10)\n",
        "print(a%10)\n",
        "print(a/10)\n",
        "print(a//10)\n",
        "print(a**10)\n",
        "b=2\n",
        "print(b**4)"
      ],
      "execution_count": 15,
      "outputs": [
        {
          "output_type": "stream",
          "text": [
            "1244\n",
            "1224\n",
            "12340\n",
            "4\n",
            "123.4\n",
            "123\n",
            "8187505353567209228244052427776\n",
            "16\n"
          ],
          "name": "stdout"
        }
      ]
    },
    {
      "cell_type": "markdown",
      "metadata": {
        "id": "ldpTGEI3S93z",
        "colab_type": "text"
      },
      "source": [
        "#Relational operator\n",
        "- =\n",
        "- ==\n",
        "- >\n",
        "->=\n",
        "- <\n",
        "- <=\n"
      ]
    },
    {
      "cell_type": "code",
      "metadata": {
        "id": "kddCvUstTN3P",
        "colab_type": "code",
        "colab": {
          "base_uri": "https://localhost:8080/",
          "height": 34
        },
        "outputId": "6e23948f-2cea-4544-fe34-5ad350e15d40"
      },
      "source": [
        "x=10\n",
        "a=x>15\n",
        "print(a)"
      ],
      "execution_count": 16,
      "outputs": [
        {
          "output_type": "stream",
          "text": [
            "False\n"
          ],
          "name": "stdout"
        }
      ]
    },
    {
      "cell_type": "markdown",
      "metadata": {
        "id": "jpmM7xcoTUCX",
        "colab_type": "text"
      },
      "source": [
        "#Logical Operator\n",
        "- and\n",
        "- or\n",
        "- not"
      ]
    },
    {
      "cell_type": "code",
      "metadata": {
        "id": "jMucz1dHTmev",
        "colab_type": "code",
        "colab": {
          "base_uri": "https://localhost:8080/",
          "height": 51
        },
        "outputId": "2d463a34-b490-420a-89f5-c424efb1117a"
      },
      "source": [
        "i=100\n",
        "a=i>50 and i<800\n",
        "a1=i>15 or i>800\n",
        "l=not 10\n",
        "print(a,a1)\n",
        "print(l)\n",
        "\n"
      ],
      "execution_count": 18,
      "outputs": [
        {
          "output_type": "stream",
          "text": [
            "True True\n",
            "False\n"
          ],
          "name": "stdout"
        }
      ]
    },
    {
      "cell_type": "markdown",
      "metadata": {
        "id": "7QH1hir_VDXi",
        "colab_type": "text"
      },
      "source": [
        "#Control flow statenents \n",
        "-  conditional statements \n",
        "- looping statements\n"
      ]
    },
    {
      "cell_type": "code",
      "metadata": {
        "id": "yOq9Y3aiVVRg",
        "colab_type": "code",
        "colab": {}
      },
      "source": [
        ""
      ],
      "execution_count": 0,
      "outputs": []
    },
    {
      "cell_type": "markdown",
      "metadata": {
        "id": "5ecZhqYNVWTH",
        "colab_type": "text"
      },
      "source": [
        "#if-else statements\n",
        "## Syntax\n",
        "# if Boolean_condition :\n",
        "Statements\n",
        "# else:\n",
        "statements\n"
      ]
    },
    {
      "cell_type": "code",
      "metadata": {
        "id": "zv55sHrxWuz0",
        "colab_type": "code",
        "colab": {
          "base_uri": "https://localhost:8080/",
          "height": 51
        },
        "outputId": "4a903c1f-3b38-4b63-8e78-df1a6b5b54aa"
      },
      "source": [
        "# to check the number is even or odd\n",
        "n=int(input(\"enter a number:\"))\n",
        "if n%2 == 0 :\n",
        "  print(n,\"is even number\")\n",
        "else:\n",
        "  print(n,\"is odd number\")\n",
        "  "
      ],
      "execution_count": 19,
      "outputs": [
        {
          "output_type": "stream",
          "text": [
            "enter a number:13\n",
            "13 is odd number\n"
          ],
          "name": "stdout"
        }
      ]
    },
    {
      "cell_type": "markdown",
      "metadata": {
        "id": "b4a4dw50YcXU",
        "colab_type": "text"
      },
      "source": [
        ""
      ]
    },
    {
      "cell_type": "code",
      "metadata": {
        "id": "wuqk5wKkYdEP",
        "colab_type": "code",
        "colab": {
          "base_uri": "https://localhost:8080/",
          "height": 51
        },
        "outputId": "6f5802c7-fd3d-46e2-993e-e6f9c435b5e4"
      },
      "source": [
        "#to check the number is multiples of 3 and 5\n",
        "n=int(input(\"enter a number:\"))\n",
        "if n%3 == 0 and n%5==0 :\n",
        "  print(n,\"is multiple of 3 and 5\")\n",
        "else:\n",
        "  print(n,\"is not a multiple of 3 and 5\")"
      ],
      "execution_count": 21,
      "outputs": [
        {
          "output_type": "stream",
          "text": [
            "enter a number:66\n",
            "66 is not a multiple of 3 and 5\n"
          ],
          "name": "stdout"
        }
      ]
    },
    {
      "cell_type": "code",
      "metadata": {
        "id": "Zk3nI3DiZNkN",
        "colab_type": "code",
        "colab": {
          "base_uri": "https://localhost:8080/",
          "height": 51
        },
        "outputId": "e86c71a4-47ff-4bb6-fbfa-cee3d0cfd961"
      },
      "source": [
        "# to check the number is positive or negative\n",
        "n=int(input(\"enter a number:\"))\n",
        "if n<0 :\n",
        "  print(n,\"is negative number\")\n",
        "else:\n",
        "  print(n,\"is positive number\")"
      ],
      "execution_count": 22,
      "outputs": [
        {
          "output_type": "stream",
          "text": [
            "enter a number:-44\n",
            "-44 is negative number\n"
          ],
          "name": "stdout"
        }
      ]
    },
    {
      "cell_type": "code",
      "metadata": {
        "id": "r9eKSjqnbWp1",
        "colab_type": "code",
        "colab": {
          "base_uri": "https://localhost:8080/",
          "height": 85
        },
        "outputId": "bd370752-8b56-4ffe-ae54-542e6c6f5edb"
      },
      "source": [
        "#find the largest of three numbers\n",
        "n1=int(input(\"enter a number:\"))\n",
        "n2=int(input(\"enter a number:\"))\n",
        "n3=int(input(\"enter a number:\"))\n",
        "if n1>n2 and n1>n3:\n",
        "  print(n1,\"is largest\")\n",
        "elif n2>n3:\n",
        "  print(n2,\"is largest\")\n",
        "else:\n",
        "  print(n3,\"is largest\")\n"
      ],
      "execution_count": 23,
      "outputs": [
        {
          "output_type": "stream",
          "text": [
            "enter a number:6\n",
            "enter a number:8\n",
            "enter a number:66\n",
            "66 is largest\n"
          ],
          "name": "stdout"
        }
      ]
    },
    {
      "cell_type": "code",
      "metadata": {
        "id": "5LCyeRKweoCh",
        "colab_type": "code",
        "colab": {
          "base_uri": "https://localhost:8080/",
          "height": 51
        },
        "outputId": "0c955a01-16e8-4517-b723-2d2ffc29af1f"
      },
      "source": [
        "n=int(input(\"enter a number\"))\n",
        "if n%4==0 and n%100!=0 and n%400==0 :\n",
        "  print(n,\"is leap year\")\n",
        "else:\n",
        "  print(n,\"is not a leap year\")"
      ],
      "execution_count": 25,
      "outputs": [
        {
          "output_type": "stream",
          "text": [
            "enter a number2016\n",
            "2016 is not a leap year\n"
          ],
          "name": "stdout"
        }
      ]
    },
    {
      "cell_type": "code",
      "metadata": {
        "id": "uHqERGvHZ5oC",
        "colab_type": "code",
        "colab": {}
      },
      "source": [
        ""
      ],
      "execution_count": 0,
      "outputs": []
    }
  ]
}